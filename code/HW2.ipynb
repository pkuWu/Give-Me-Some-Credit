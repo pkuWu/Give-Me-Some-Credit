{
 "cells": [
  {
   "cell_type": "code",
   "execution_count": 104,
   "id": "d2cd318e",
   "metadata": {
    "ExecuteTime": {
     "end_time": "2023-03-25T08:04:19.598328Z",
     "start_time": "2023-03-25T08:04:19.592327Z"
    }
   },
   "outputs": [],
   "source": [
    "import numpy as np\n",
    "import pandas as pd\n",
    "from scipy.stats.mstats import winsorize\n",
    "from sklearn.linear_model import Lasso,LassoCV,LassoLarsCV\n",
    "from sklearn.model_selection import KFold\n",
    "from sklearn.linear_model import LogisticRegression\n",
    "from sklearn.decomposition import PCA\n",
    "\n",
    "from sklearn import svm\n",
    "from sklearn.tree import DecisionTreeClassifier,plot_tree\n",
    "import pickle\n",
    "import os\n",
    "import matplotlib.pyplot as plt\n",
    "from sklearn.metrics import roc_auc_score\n",
    "from sklearn.metrics import accuracy_score\n",
    "from scipy.stats.mstats import winsorize\n",
    "import seaborn as sns\n",
    "from xgboost import XGBClassifier\n",
    "from sklearn.model_selection import GridSearchCV \n",
    "from sklearn.preprocessing import StandardScaler"
   ]
  },
  {
   "cell_type": "markdown",
   "id": "f337aad7",
   "metadata": {},
   "source": [
    "# Load data"
   ]
  },
  {
   "cell_type": "code",
   "execution_count": 58,
   "id": "254d6cfd",
   "metadata": {
    "ExecuteTime": {
     "end_time": "2023-03-24T09:16:44.853519Z",
     "start_time": "2023-03-24T09:16:44.839450Z"
    }
   },
   "outputs": [],
   "source": [
    "def load_data(path):\n",
    "    df_train = pd.read_csv(f'{path}/cs-training.csv',index_col=0)\n",
    "    df_test = pd.read_csv(f'{path}/cs-test.csv',index_col=0)\n",
    "    df_subm = pd.read_csv(f'{path}/sampleEntry.csv',index_col=0)\n",
    "    df_describe = pd.read_excel(f'{path}/Data Dictionary.xls',header=1)\n",
    "    return df_train, df_test, df_subm, df_describe"
   ]
  },
  {
   "cell_type": "code",
   "execution_count": 59,
   "id": "3f4420d0",
   "metadata": {
    "ExecuteTime": {
     "end_time": "2023-03-24T09:16:45.154515Z",
     "start_time": "2023-03-24T09:16:44.855447Z"
    }
   },
   "outputs": [],
   "source": [
    "df_train, df_test, df_subm, df_describe = load_data(path='../data')"
   ]
  },
  {
   "cell_type": "code",
   "execution_count": 60,
   "id": "9c3e56d5",
   "metadata": {
    "ExecuteTime": {
     "end_time": "2023-03-24T09:16:45.170267Z",
     "start_time": "2023-03-24T09:16:45.156465Z"
    }
   },
   "outputs": [
    {
     "data": {
      "text/html": [
       "<div>\n",
       "<style scoped>\n",
       "    .dataframe tbody tr th:only-of-type {\n",
       "        vertical-align: middle;\n",
       "    }\n",
       "\n",
       "    .dataframe tbody tr th {\n",
       "        vertical-align: top;\n",
       "    }\n",
       "\n",
       "    .dataframe thead th {\n",
       "        text-align: right;\n",
       "    }\n",
       "</style>\n",
       "<table border=\"1\" class=\"dataframe\">\n",
       "  <thead>\n",
       "    <tr style=\"text-align: right;\">\n",
       "      <th></th>\n",
       "      <th>Variable Name</th>\n",
       "      <th>Description</th>\n",
       "      <th>Type</th>\n",
       "    </tr>\n",
       "  </thead>\n",
       "  <tbody>\n",
       "    <tr>\n",
       "      <th>0</th>\n",
       "      <td>SeriousDlqin2yrs</td>\n",
       "      <td>Person experienced 90 days past due delinquenc...</td>\n",
       "      <td>Y/N</td>\n",
       "    </tr>\n",
       "    <tr>\n",
       "      <th>1</th>\n",
       "      <td>RevolvingUtilizationOfUnsecuredLines</td>\n",
       "      <td>Total balance on credit cards and personal lin...</td>\n",
       "      <td>percentage</td>\n",
       "    </tr>\n",
       "    <tr>\n",
       "      <th>2</th>\n",
       "      <td>age</td>\n",
       "      <td>Age of borrower in years</td>\n",
       "      <td>integer</td>\n",
       "    </tr>\n",
       "    <tr>\n",
       "      <th>3</th>\n",
       "      <td>NumberOfTime30-59DaysPastDueNotWorse</td>\n",
       "      <td>Number of times borrower has been 30-59 days p...</td>\n",
       "      <td>integer</td>\n",
       "    </tr>\n",
       "    <tr>\n",
       "      <th>4</th>\n",
       "      <td>DebtRatio</td>\n",
       "      <td>Monthly debt payments, alimony,living costs di...</td>\n",
       "      <td>percentage</td>\n",
       "    </tr>\n",
       "    <tr>\n",
       "      <th>5</th>\n",
       "      <td>MonthlyIncome</td>\n",
       "      <td>Monthly income</td>\n",
       "      <td>real</td>\n",
       "    </tr>\n",
       "    <tr>\n",
       "      <th>6</th>\n",
       "      <td>NumberOfOpenCreditLinesAndLoans</td>\n",
       "      <td>Number of Open loans (installment like car loa...</td>\n",
       "      <td>integer</td>\n",
       "    </tr>\n",
       "    <tr>\n",
       "      <th>7</th>\n",
       "      <td>NumberOfTimes90DaysLate</td>\n",
       "      <td>Number of times borrower has been 90 days or m...</td>\n",
       "      <td>integer</td>\n",
       "    </tr>\n",
       "    <tr>\n",
       "      <th>8</th>\n",
       "      <td>NumberRealEstateLoansOrLines</td>\n",
       "      <td>Number of mortgage and real estate loans inclu...</td>\n",
       "      <td>integer</td>\n",
       "    </tr>\n",
       "    <tr>\n",
       "      <th>9</th>\n",
       "      <td>NumberOfTime60-89DaysPastDueNotWorse</td>\n",
       "      <td>Number of times borrower has been 60-89 days p...</td>\n",
       "      <td>integer</td>\n",
       "    </tr>\n",
       "    <tr>\n",
       "      <th>10</th>\n",
       "      <td>NumberOfDependents</td>\n",
       "      <td>Number of dependents in family excluding thems...</td>\n",
       "      <td>integer</td>\n",
       "    </tr>\n",
       "  </tbody>\n",
       "</table>\n",
       "</div>"
      ],
      "text/plain": [
       "                           Variable Name  \\\n",
       "0                       SeriousDlqin2yrs   \n",
       "1   RevolvingUtilizationOfUnsecuredLines   \n",
       "2                                    age   \n",
       "3   NumberOfTime30-59DaysPastDueNotWorse   \n",
       "4                              DebtRatio   \n",
       "5                          MonthlyIncome   \n",
       "6        NumberOfOpenCreditLinesAndLoans   \n",
       "7                NumberOfTimes90DaysLate   \n",
       "8           NumberRealEstateLoansOrLines   \n",
       "9   NumberOfTime60-89DaysPastDueNotWorse   \n",
       "10                    NumberOfDependents   \n",
       "\n",
       "                                          Description        Type  \n",
       "0   Person experienced 90 days past due delinquenc...         Y/N  \n",
       "1   Total balance on credit cards and personal lin...  percentage  \n",
       "2                            Age of borrower in years     integer  \n",
       "3   Number of times borrower has been 30-59 days p...     integer  \n",
       "4   Monthly debt payments, alimony,living costs di...  percentage  \n",
       "5                                      Monthly income        real  \n",
       "6   Number of Open loans (installment like car loa...     integer  \n",
       "7   Number of times borrower has been 90 days or m...     integer  \n",
       "8   Number of mortgage and real estate loans inclu...     integer  \n",
       "9   Number of times borrower has been 60-89 days p...     integer  \n",
       "10  Number of dependents in family excluding thems...     integer  "
      ]
     },
     "execution_count": 60,
     "metadata": {},
     "output_type": "execute_result"
    }
   ],
   "source": [
    "df_describe"
   ]
  },
  {
   "cell_type": "code",
   "execution_count": 61,
   "id": "8dd38012",
   "metadata": {
    "ExecuteTime": {
     "end_time": "2023-03-24T09:16:45.265883Z",
     "start_time": "2023-03-24T09:16:45.173270Z"
    }
   },
   "outputs": [
    {
     "data": {
      "text/html": [
       "<div>\n",
       "<style scoped>\n",
       "    .dataframe tbody tr th:only-of-type {\n",
       "        vertical-align: middle;\n",
       "    }\n",
       "\n",
       "    .dataframe tbody tr th {\n",
       "        vertical-align: top;\n",
       "    }\n",
       "\n",
       "    .dataframe thead th {\n",
       "        text-align: right;\n",
       "    }\n",
       "</style>\n",
       "<table border=\"1\" class=\"dataframe\">\n",
       "  <thead>\n",
       "    <tr style=\"text-align: right;\">\n",
       "      <th></th>\n",
       "      <th>SeriousDlqin2yrs</th>\n",
       "      <th>RevolvingUtilizationOfUnsecuredLines</th>\n",
       "      <th>age</th>\n",
       "      <th>NumberOfTime30-59DaysPastDueNotWorse</th>\n",
       "      <th>DebtRatio</th>\n",
       "      <th>MonthlyIncome</th>\n",
       "      <th>NumberOfOpenCreditLinesAndLoans</th>\n",
       "      <th>NumberOfTimes90DaysLate</th>\n",
       "      <th>NumberRealEstateLoansOrLines</th>\n",
       "      <th>NumberOfTime60-89DaysPastDueNotWorse</th>\n",
       "      <th>NumberOfDependents</th>\n",
       "    </tr>\n",
       "  </thead>\n",
       "  <tbody>\n",
       "    <tr>\n",
       "      <th>count</th>\n",
       "      <td>150000.000000</td>\n",
       "      <td>150000.000000</td>\n",
       "      <td>150000.000000</td>\n",
       "      <td>150000.000000</td>\n",
       "      <td>150000.000000</td>\n",
       "      <td>1.202690e+05</td>\n",
       "      <td>150000.000000</td>\n",
       "      <td>150000.000000</td>\n",
       "      <td>150000.000000</td>\n",
       "      <td>150000.000000</td>\n",
       "      <td>146076.000000</td>\n",
       "    </tr>\n",
       "    <tr>\n",
       "      <th>mean</th>\n",
       "      <td>0.066840</td>\n",
       "      <td>6.048438</td>\n",
       "      <td>52.295207</td>\n",
       "      <td>0.421033</td>\n",
       "      <td>353.005076</td>\n",
       "      <td>6.670221e+03</td>\n",
       "      <td>8.452760</td>\n",
       "      <td>0.265973</td>\n",
       "      <td>1.018240</td>\n",
       "      <td>0.240387</td>\n",
       "      <td>0.757222</td>\n",
       "    </tr>\n",
       "    <tr>\n",
       "      <th>std</th>\n",
       "      <td>0.249746</td>\n",
       "      <td>249.755371</td>\n",
       "      <td>14.771866</td>\n",
       "      <td>4.192781</td>\n",
       "      <td>2037.818523</td>\n",
       "      <td>1.438467e+04</td>\n",
       "      <td>5.145951</td>\n",
       "      <td>4.169304</td>\n",
       "      <td>1.129771</td>\n",
       "      <td>4.155179</td>\n",
       "      <td>1.115086</td>\n",
       "    </tr>\n",
       "    <tr>\n",
       "      <th>min</th>\n",
       "      <td>0.000000</td>\n",
       "      <td>0.000000</td>\n",
       "      <td>0.000000</td>\n",
       "      <td>0.000000</td>\n",
       "      <td>0.000000</td>\n",
       "      <td>0.000000e+00</td>\n",
       "      <td>0.000000</td>\n",
       "      <td>0.000000</td>\n",
       "      <td>0.000000</td>\n",
       "      <td>0.000000</td>\n",
       "      <td>0.000000</td>\n",
       "    </tr>\n",
       "    <tr>\n",
       "      <th>25%</th>\n",
       "      <td>0.000000</td>\n",
       "      <td>0.029867</td>\n",
       "      <td>41.000000</td>\n",
       "      <td>0.000000</td>\n",
       "      <td>0.175074</td>\n",
       "      <td>3.400000e+03</td>\n",
       "      <td>5.000000</td>\n",
       "      <td>0.000000</td>\n",
       "      <td>0.000000</td>\n",
       "      <td>0.000000</td>\n",
       "      <td>0.000000</td>\n",
       "    </tr>\n",
       "    <tr>\n",
       "      <th>50%</th>\n",
       "      <td>0.000000</td>\n",
       "      <td>0.154181</td>\n",
       "      <td>52.000000</td>\n",
       "      <td>0.000000</td>\n",
       "      <td>0.366508</td>\n",
       "      <td>5.400000e+03</td>\n",
       "      <td>8.000000</td>\n",
       "      <td>0.000000</td>\n",
       "      <td>1.000000</td>\n",
       "      <td>0.000000</td>\n",
       "      <td>0.000000</td>\n",
       "    </tr>\n",
       "    <tr>\n",
       "      <th>75%</th>\n",
       "      <td>0.000000</td>\n",
       "      <td>0.559046</td>\n",
       "      <td>63.000000</td>\n",
       "      <td>0.000000</td>\n",
       "      <td>0.868254</td>\n",
       "      <td>8.249000e+03</td>\n",
       "      <td>11.000000</td>\n",
       "      <td>0.000000</td>\n",
       "      <td>2.000000</td>\n",
       "      <td>0.000000</td>\n",
       "      <td>1.000000</td>\n",
       "    </tr>\n",
       "    <tr>\n",
       "      <th>max</th>\n",
       "      <td>1.000000</td>\n",
       "      <td>50708.000000</td>\n",
       "      <td>109.000000</td>\n",
       "      <td>98.000000</td>\n",
       "      <td>329664.000000</td>\n",
       "      <td>3.008750e+06</td>\n",
       "      <td>58.000000</td>\n",
       "      <td>98.000000</td>\n",
       "      <td>54.000000</td>\n",
       "      <td>98.000000</td>\n",
       "      <td>20.000000</td>\n",
       "    </tr>\n",
       "  </tbody>\n",
       "</table>\n",
       "</div>"
      ],
      "text/plain": [
       "       SeriousDlqin2yrs  RevolvingUtilizationOfUnsecuredLines            age  \\\n",
       "count     150000.000000                         150000.000000  150000.000000   \n",
       "mean           0.066840                              6.048438      52.295207   \n",
       "std            0.249746                            249.755371      14.771866   \n",
       "min            0.000000                              0.000000       0.000000   \n",
       "25%            0.000000                              0.029867      41.000000   \n",
       "50%            0.000000                              0.154181      52.000000   \n",
       "75%            0.000000                              0.559046      63.000000   \n",
       "max            1.000000                          50708.000000     109.000000   \n",
       "\n",
       "       NumberOfTime30-59DaysPastDueNotWorse      DebtRatio  MonthlyIncome  \\\n",
       "count                         150000.000000  150000.000000   1.202690e+05   \n",
       "mean                               0.421033     353.005076   6.670221e+03   \n",
       "std                                4.192781    2037.818523   1.438467e+04   \n",
       "min                                0.000000       0.000000   0.000000e+00   \n",
       "25%                                0.000000       0.175074   3.400000e+03   \n",
       "50%                                0.000000       0.366508   5.400000e+03   \n",
       "75%                                0.000000       0.868254   8.249000e+03   \n",
       "max                               98.000000  329664.000000   3.008750e+06   \n",
       "\n",
       "       NumberOfOpenCreditLinesAndLoans  NumberOfTimes90DaysLate  \\\n",
       "count                    150000.000000            150000.000000   \n",
       "mean                          8.452760                 0.265973   \n",
       "std                           5.145951                 4.169304   \n",
       "min                           0.000000                 0.000000   \n",
       "25%                           5.000000                 0.000000   \n",
       "50%                           8.000000                 0.000000   \n",
       "75%                          11.000000                 0.000000   \n",
       "max                          58.000000                98.000000   \n",
       "\n",
       "       NumberRealEstateLoansOrLines  NumberOfTime60-89DaysPastDueNotWorse  \\\n",
       "count                 150000.000000                         150000.000000   \n",
       "mean                       1.018240                              0.240387   \n",
       "std                        1.129771                              4.155179   \n",
       "min                        0.000000                              0.000000   \n",
       "25%                        0.000000                              0.000000   \n",
       "50%                        1.000000                              0.000000   \n",
       "75%                        2.000000                              0.000000   \n",
       "max                       54.000000                             98.000000   \n",
       "\n",
       "       NumberOfDependents  \n",
       "count       146076.000000  \n",
       "mean             0.757222  \n",
       "std              1.115086  \n",
       "min              0.000000  \n",
       "25%              0.000000  \n",
       "50%              0.000000  \n",
       "75%              1.000000  \n",
       "max             20.000000  "
      ]
     },
     "execution_count": 61,
     "metadata": {},
     "output_type": "execute_result"
    }
   ],
   "source": [
    "df_train.describe()"
   ]
  },
  {
   "cell_type": "markdown",
   "id": "47c2b2e0",
   "metadata": {},
   "source": [
    "# Feature Engineer"
   ]
  },
  {
   "cell_type": "markdown",
   "id": "34119055",
   "metadata": {},
   "source": [
    "## Combine data"
   ]
  },
  {
   "cell_type": "code",
   "execution_count": 62,
   "id": "ee43e8c0",
   "metadata": {
    "ExecuteTime": {
     "end_time": "2023-03-24T09:16:45.281915Z",
     "start_time": "2023-03-24T09:16:45.267808Z"
    }
   },
   "outputs": [],
   "source": [
    "# set features and label\n",
    "label = df_describe.loc[0,'Variable Name']\n",
    "features = df_describe.loc[1:,'Variable Name'].to_list()"
   ]
  },
  {
   "cell_type": "code",
   "execution_count": 63,
   "id": "bf547c76",
   "metadata": {
    "ExecuteTime": {
     "end_time": "2023-03-24T09:16:45.298006Z",
     "start_time": "2023-03-24T09:16:45.283909Z"
    }
   },
   "outputs": [],
   "source": [
    "# set flag to classify train data and test data\n",
    "df_train['istest'] = 0\n",
    "df_test['istest'] = 1"
   ]
  },
  {
   "cell_type": "code",
   "execution_count": 64,
   "id": "08a6d72a",
   "metadata": {
    "ExecuteTime": {
     "end_time": "2023-03-24T09:16:45.345906Z",
     "start_time": "2023-03-24T09:16:45.301921Z"
    }
   },
   "outputs": [],
   "source": [
    "# combine train data and test data, and process it\n",
    "df_raw = pd.concat([df_train,df_test],axis=0)"
   ]
  },
  {
   "cell_type": "code",
   "execution_count": 65,
   "id": "17bc90b3",
   "metadata": {
    "ExecuteTime": {
     "end_time": "2023-03-24T09:16:45.409105Z",
     "start_time": "2023-03-24T09:16:45.349907Z"
    }
   },
   "outputs": [],
   "source": [
    "df_raw[features] = df_raw[features].fillna(0)"
   ]
  },
  {
   "cell_type": "markdown",
   "id": "340a608b",
   "metadata": {},
   "source": [
    "## Winsorize Outlier"
   ]
  },
  {
   "cell_type": "code",
   "execution_count": 66,
   "id": "2ce37fb1",
   "metadata": {
    "ExecuteTime": {
     "end_time": "2023-03-24T09:16:45.567373Z",
     "start_time": "2023-03-24T09:16:45.412114Z"
    }
   },
   "outputs": [],
   "source": [
    "for feat in features:\n",
    "    df_raw[feat] = winsorize(df_raw[feat],limits=[0.01,0.01])"
   ]
  },
  {
   "cell_type": "markdown",
   "id": "7d484730",
   "metadata": {},
   "source": [
    "## Normalized Feature"
   ]
  },
  {
   "cell_type": "code",
   "execution_count": 67,
   "id": "75568890",
   "metadata": {
    "ExecuteTime": {
     "end_time": "2023-03-24T09:16:46.263938Z",
     "start_time": "2023-03-24T09:16:45.569381Z"
    }
   },
   "outputs": [],
   "source": [
    "scaler = StandardScaler()\n",
    "df_raw.loc[df_raw['istest']==0,features] = scaler.fit_transform(df_raw.loc[df_raw['istest']==0,features])\n",
    "df_raw.loc[df_raw['istest']==1,features] = scaler.fit_transform(df_raw.loc[df_raw['istest']==1,features])"
   ]
  },
  {
   "cell_type": "markdown",
   "id": "95db9045",
   "metadata": {},
   "source": [
    "## PCA"
   ]
  },
  {
   "cell_type": "code",
   "execution_count": 68,
   "id": "d234915d",
   "metadata": {
    "ExecuteTime": {
     "end_time": "2023-03-24T09:16:46.686664Z",
     "start_time": "2023-03-24T09:16:46.265875Z"
    }
   },
   "outputs": [
    {
     "data": {
      "text/plain": [
       "PCA(n_components=3)"
      ]
     },
     "execution_count": 68,
     "metadata": {},
     "output_type": "execute_result"
    }
   ],
   "source": [
    "pca = PCA(n_components = 3)\n",
    "pca.fit(df_raw[features])"
   ]
  },
  {
   "cell_type": "code",
   "execution_count": 69,
   "id": "5baf89b6",
   "metadata": {
    "ExecuteTime": {
     "end_time": "2023-03-24T09:16:46.702458Z",
     "start_time": "2023-03-24T09:16:46.688358Z"
    }
   },
   "outputs": [],
   "source": [
    "df = pd.DataFrame(columns=['feature1','feature2','feature3'])"
   ]
  },
  {
   "cell_type": "code",
   "execution_count": 70,
   "id": "6f248d80",
   "metadata": {
    "ExecuteTime": {
     "end_time": "2023-03-24T09:16:46.781087Z",
     "start_time": "2023-03-24T09:16:46.704453Z"
    }
   },
   "outputs": [],
   "source": [
    "df[['feature1','feature2','feature3']]=pca.transform(df_raw[features])\n",
    "df[label] = df_raw[label].values\n",
    "df['istest'] = df_raw['istest'].values"
   ]
  },
  {
   "cell_type": "markdown",
   "id": "03682d4c",
   "metadata": {},
   "source": [
    "# Grid Search Parameters"
   ]
  },
  {
   "cell_type": "code",
   "execution_count": 88,
   "id": "f961aef4",
   "metadata": {
    "ExecuteTime": {
     "end_time": "2023-03-25T05:14:50.560254Z",
     "start_time": "2023-03-25T05:14:50.523310Z"
    }
   },
   "outputs": [],
   "source": [
    "x_train = df.loc[df['istest']==0,['feature1','feature2','feature3']].values\n",
    "y_train = df.loc[df['istest']==0,label].values"
   ]
  },
  {
   "cell_type": "markdown",
   "id": "adb88ccd",
   "metadata": {},
   "source": [
    "## Grid Search max_depth and min_child_weight"
   ]
  },
  {
   "cell_type": "code",
   "execution_count": 100,
   "id": "74396c1f",
   "metadata": {
    "ExecuteTime": {
     "end_time": "2023-03-25T06:13:08.450458Z",
     "start_time": "2023-03-25T06:08:31.732447Z"
    },
    "scrolled": false
   },
   "outputs": [
    {
     "name": "stdout",
     "output_type": "stream",
     "text": [
      "max_depth_min_child_weight\n",
      "gsearch1.best_params_ {'max_depth': 3, 'min_child_weight': 5}\n",
      "gsearch1.best_score_ 0.8550479964995423\n"
     ]
    }
   ],
   "source": [
    "param_test1 = {\n",
    "'max_depth':[i for i in range(3,10,2)],\n",
    "'min_child_weight':[i for i in range(1,6,2)]\n",
    "}\n",
    "\n",
    "gsearch1 = GridSearchCV(\n",
    "    estimator = XGBClassifier(\n",
    "\n",
    "        n_estimators=100, \n",
    "        max_depth=5,\n",
    "        min_child_weight=1,\n",
    "        gamma=0,\n",
    "        subsample=0.8,\n",
    "        colsample_bytree=0.8,\n",
    "        eval_metric='auc',\n",
    "        seed=27,\n",
    "        use_label_encoder=False,\n",
    "#         verbose=10\n",
    "        \n",
    "    ),\n",
    "    param_grid = param_test1,\n",
    "    scoring='roc_auc',\n",
    "    cv=5\n",
    ")\n",
    "gsearch1.fit(x_train,y_train)\n",
    "print('max_depth_min_child_weight')\n",
    "print('gsearch1.best_params_', gsearch1.best_params_)\n",
    "print('gsearch1.best_score_', gsearch1.best_score_)"
   ]
  },
  {
   "cell_type": "markdown",
   "id": "c9cdcdcd",
   "metadata": {},
   "source": [
    "## Grid Search gamma"
   ]
  },
  {
   "cell_type": "code",
   "execution_count": 102,
   "id": "9dddb6fa",
   "metadata": {
    "ExecuteTime": {
     "end_time": "2023-03-25T06:15:29.047849Z",
     "start_time": "2023-03-25T06:14:22.905558Z"
    }
   },
   "outputs": [
    {
     "name": "stdout",
     "output_type": "stream",
     "text": [
      "max_depth_min_child_weight\n",
      "gsearch1.best_params_ {'gamma': 0.0}\n",
      "gsearch1.best_score_ 0.8550479964995423\n"
     ]
    }
   ],
   "source": [
    "param_test2 = {\n",
    " 'gamma':[i/10.0 for i in range(0,5)]\n",
    "}\n",
    "\n",
    "gsearch2 = GridSearchCV(\n",
    "    estimator = XGBClassifier(\n",
    "\n",
    "        n_estimators=100, \n",
    "        max_depth=3,\n",
    "        min_child_weight=5,\n",
    "        gamma=0,\n",
    "        subsample=0.8,\n",
    "        colsample_bytree=0.8,\n",
    "        eval_metric='auc',\n",
    "        seed=27,\n",
    "        use_label_encoder=False,\n",
    "#         verbose=10\n",
    "        \n",
    "    ),\n",
    "    param_grid = param_test2,\n",
    "    scoring='roc_auc',\n",
    "    cv=5\n",
    ")\n",
    "gsearch2.fit(x_train,y_train)\n",
    "print('max_depth_min_child_weight')\n",
    "print('gsearch1.best_params_', gsearch2.best_params_)\n",
    "print('gsearch1.best_score_', gsearch2.best_score_)"
   ]
  },
  {
   "cell_type": "markdown",
   "id": "95756131",
   "metadata": {},
   "source": [
    "## Grid Search gamma"
   ]
  },
  {
   "cell_type": "code",
   "execution_count": 103,
   "id": "8dba4fdc",
   "metadata": {
    "ExecuteTime": {
     "end_time": "2023-03-25T06:22:59.311829Z",
     "start_time": "2023-03-25T06:18:28.459875Z"
    }
   },
   "outputs": [
    {
     "name": "stdout",
     "output_type": "stream",
     "text": [
      "max_depth_min_child_weight\n",
      "gsearch1.best_params_ {'colsample_bytree': 0.7, 'subsample': 0.7}\n",
      "gsearch1.best_score_ 0.8551350470697304\n"
     ]
    }
   ],
   "source": [
    "param_test3 = {\n",
    " 'subsample':[i/10.0 for i in range(6,10)],\n",
    " 'colsample_bytree':[i/10.0 for i in range(6,10)]\n",
    "}\n",
    "\n",
    "gsearch3 = GridSearchCV(\n",
    "    estimator = XGBClassifier(\n",
    "\n",
    "        n_estimators=100, \n",
    "        max_depth=3,\n",
    "        min_child_weight=5,\n",
    "        gamma=0,\n",
    "        subsample=0.7,\n",
    "        colsample_bytree=0.7,\n",
    "        eval_metric='auc',\n",
    "        seed=27,\n",
    "        use_label_encoder=False,\n",
    "#         verbose=10\n",
    "        \n",
    "    ),\n",
    "    param_grid = param_test3,\n",
    "    scoring='roc_auc',\n",
    "    cv=5\n",
    ")\n",
    "gsearch3.fit(x_train,y_train)\n",
    "print('max_depth_min_child_weight')\n",
    "print('gsearch1.best_params_', gsearch3.best_params_)\n",
    "print('gsearch1.best_score_', gsearch3.best_score_)"
   ]
  },
  {
   "cell_type": "markdown",
   "id": "26dd9cd2",
   "metadata": {},
   "source": [
    "# Train Model"
   ]
  },
  {
   "cell_type": "code",
   "execution_count": 113,
   "id": "d6ea3343",
   "metadata": {
    "ExecuteTime": {
     "end_time": "2023-03-25T08:09:23.793859Z",
     "start_time": "2023-03-25T08:09:23.774859Z"
    }
   },
   "outputs": [],
   "source": [
    "def valid_metric(Model,Model_name,x_valid,y_valid,i):\n",
    "    y_pred = Model.predict_proba(x_valid)[:,1]\n",
    "#     df = pd.DataFrame({'pred':y_pred,'label':y_valid})\n",
    "    \n",
    "    auc_val = roc_auc_score(y_valid, y_pred)\n",
    "    print(f'fold{i+1}: {Model_name} vaild AUC {round(auc_val,4)}')\n",
    "\n",
    "def save_model(Model,Model_name,i,path):\n",
    "    os.makedirs(path,exist_ok=True)\n",
    "    with open(f'{path}/{Model_name}_{i}.pkl','wb') as f:\n",
    "        pickle.dump(Model,f)\n",
    "\n",
    "def load_model(Model_name,i,path):\n",
    "    with open(f'{path}/{Model_name}_{i}.pkl','rb') as f:\n",
    "        model = pickle.load(f)\n",
    "    return model \n",
    "    "
   ]
  },
  {
   "cell_type": "code",
   "execution_count": 114,
   "id": "6a209264",
   "metadata": {
    "ExecuteTime": {
     "end_time": "2023-03-25T08:09:30.592460Z",
     "start_time": "2023-03-25T08:09:24.470086Z"
    }
   },
   "outputs": [
    {
     "name": "stdout",
     "output_type": "stream",
     "text": [
      "[0]\tvalidation_0-auc:0.80567\n",
      "[10]\tvalidation_0-auc:0.84643\n",
      "[20]\tvalidation_0-auc:0.85407\n",
      "[30]\tvalidation_0-auc:0.85515\n",
      "[40]\tvalidation_0-auc:0.85528\n",
      "[43]\tvalidation_0-auc:0.85509\n",
      "Accuracy: 93.76%\n",
      "[0]\tvalidation_0-auc:0.80049\n",
      "[10]\tvalidation_0-auc:0.84417\n",
      "[20]\tvalidation_0-auc:0.84911\n",
      "[30]\tvalidation_0-auc:0.85133\n",
      "[40]\tvalidation_0-auc:0.85133\n",
      "[50]\tvalidation_0-auc:0.85220\n",
      "[60]\tvalidation_0-auc:0.85237\n",
      "[70]\tvalidation_0-auc:0.85145\n",
      "Accuracy: 93.35%\n",
      "[0]\tvalidation_0-auc:0.79739\n",
      "[10]\tvalidation_0-auc:0.84149\n",
      "[20]\tvalidation_0-auc:0.85194\n",
      "[30]\tvalidation_0-auc:0.85368\n",
      "[40]\tvalidation_0-auc:0.85329\n",
      "[42]\tvalidation_0-auc:0.85343\n",
      "Accuracy: 93.73%\n",
      "[0]\tvalidation_0-auc:0.79940\n",
      "[10]\tvalidation_0-auc:0.84577\n",
      "[20]\tvalidation_0-auc:0.85193\n",
      "[30]\tvalidation_0-auc:0.85320\n",
      "[40]\tvalidation_0-auc:0.85342\n",
      "[42]\tvalidation_0-auc:0.85322\n",
      "Accuracy: 93.70%\n",
      "[0]\tvalidation_0-auc:0.79776\n",
      "[10]\tvalidation_0-auc:0.85082\n",
      "[20]\tvalidation_0-auc:0.85947\n",
      "[30]\tvalidation_0-auc:0.86083\n",
      "[34]\tvalidation_0-auc:0.86102\n",
      "Accuracy: 93.62%\n"
     ]
    }
   ],
   "source": [
    "# kfolds cross validation\n",
    "kfolds = KFold(n_splits=5, shuffle=False)\n",
    "train_data = df[df['istest']==0]\n",
    "train_data = train_data.reset_index().drop('index',axis=1)\n",
    "\n",
    "# LR_Model_list = []\n",
    "# SVM_Model_list = []\n",
    "# Tree_Model_list = []\n",
    "\n",
    "for i,(train_idx, val_idx) in enumerate(kfolds.split(train_data)):\n",
    "    # Split train and valid\n",
    "    x_train = train_data.loc[train_idx,['feature1','feature2','feature3']].values\n",
    "    y_train = train_data.loc[train_idx,label].values\n",
    "    \n",
    "    x_valid = train_data.loc[val_idx,['feature1','feature2','feature3']].values\n",
    "    y_valid = train_data.loc[val_idx,label].values\n",
    "    \n",
    "    xgb = XGBClassifier(\n",
    "        n_estimators=100, \n",
    "        max_depth=3,\n",
    "        min_child_weight=5,\n",
    "        gamma=0,\n",
    "        subsample=0.7,\n",
    "        colsample_bytree=0.7,\n",
    "        eval_metric='auc',\n",
    "        seed=27,\n",
    "        use_label_encoder=False,\n",
    "        \n",
    "    )\n",
    "    \n",
    "    xgb.fit(x_train,y_train,eval_set=[(x_valid,y_valid)], eval_metric=[\"auc\"],early_stopping_rounds=10,verbose=10)\n",
    "    \n",
    "    y_pred = xgb.predict(x_valid)\n",
    "    \n",
    "    accuracy = accuracy_score(y_valid, y_pred)\n",
    "    print(\"Accuracy: %.2f%%\" % (accuracy * 100.0))\n",
    "    \n",
    "    save_model(xgb,'xgboost',i+1,path='./saved_model') # save model\n",
    "    \n",
    "\n",
    "    \n",
    "    \n",
    "    # Logistic Model\n",
    "#     LR_Model = LogisticRegression()\n",
    "#     LR_Model.fit(x_train, y_train)\n",
    "#     save_model(LR_Model,'LogisticRegression',i+1,path='./saved_model') # save model\n",
    "    \n",
    "#     valid_metric(Model=LR_Model,Model_name='LogisticRegression',x_valid=x_valid,y_valid=y_valid,i=i)\n",
    "    \n",
    "    \n",
    "#     # SVM Model\n",
    "#     SVM_Model = svm.SVC(kernel = 'linear',probability=True)\n",
    "#     SVM_Model.fit(x_train, y_train)\n",
    "#     save_model(SVM_Model,'SVM',i+1,path='./saved_model') # save model\n",
    "    \n",
    "#     valid_metric(Model=SVM_Model,Model_name='SVM',x_valid=x_valid,y_valid=y_valid,i=i)\n",
    "    \n",
    "\n",
    "#     # Tree Model\n",
    "#     DecisonTree_Model = DecisionTreeClassifier(min_samples_leaf=10)\n",
    "#     DecisonTree_Model.fit(x_train, y_train)\n",
    "    \n",
    "#     save_model(DecisonTree_Model,'DecisionTree',i+1,path='./saved_model') # save model\n",
    "    \n",
    "#     valid_metric(Model=DecisonTree_Model,Model_name='DecisionTree',x_valid=x_valid,y_valid=y_valid,i=i)\n",
    "    \n",
    "    \n",
    "    \n",
    "    "
   ]
  },
  {
   "cell_type": "markdown",
   "id": "8473e592",
   "metadata": {
    "ExecuteTime": {
     "end_time": "2023-03-17T13:52:43.737311Z",
     "start_time": "2023-03-17T13:52:43.737311Z"
    }
   },
   "source": [
    "# Predict"
   ]
  },
  {
   "cell_type": "code",
   "execution_count": 116,
   "id": "62bf674f",
   "metadata": {
    "ExecuteTime": {
     "end_time": "2023-03-25T08:09:44.613550Z",
     "start_time": "2023-03-25T08:09:44.592336Z"
    }
   },
   "outputs": [],
   "source": [
    "x_test = df.loc[df['istest']==1,['feature1','feature2','feature3']].values\n",
    "y_test = df.loc[df['istest']==1,label].values"
   ]
  },
  {
   "cell_type": "code",
   "execution_count": 117,
   "id": "ac5e2a6a",
   "metadata": {
    "ExecuteTime": {
     "end_time": "2023-03-25T08:09:46.166543Z",
     "start_time": "2023-03-25T08:09:46.084544Z"
    }
   },
   "outputs": [],
   "source": [
    "pred_prob = 0\n",
    "for i in range(1,6):\n",
    "#     LR_model = load_model('LogisticRegression',i,path='./saved_model')\n",
    "#     pred_prob += LR_model.predict_proba(x_test)\n",
    "    Tree_model = load_model('xgboost',i,path='./saved_model')\n",
    "    pred_prob += Tree_model.predict_proba(x_test)\n",
    "\n",
    "pred_prob = pred_prob / 5"
   ]
  },
  {
   "cell_type": "code",
   "execution_count": 118,
   "id": "9d08a0c7",
   "metadata": {
    "ExecuteTime": {
     "end_time": "2023-03-25T08:09:47.347556Z",
     "start_time": "2023-03-25T08:09:47.332554Z"
    }
   },
   "outputs": [],
   "source": [
    "df_subm1 = df_subm.copy()"
   ]
  },
  {
   "cell_type": "code",
   "execution_count": 119,
   "id": "42527595",
   "metadata": {
    "ExecuteTime": {
     "end_time": "2023-03-25T08:09:47.772392Z",
     "start_time": "2023-03-25T08:09:47.756480Z"
    }
   },
   "outputs": [],
   "source": [
    "df_subm1['Probability'] = pred_prob[:,1]"
   ]
  },
  {
   "cell_type": "code",
   "execution_count": 120,
   "id": "424f9528",
   "metadata": {
    "ExecuteTime": {
     "end_time": "2023-03-25T08:09:48.564217Z",
     "start_time": "2023-03-25T08:09:48.554143Z"
    }
   },
   "outputs": [
    {
     "data": {
      "text/html": [
       "<div>\n",
       "<style scoped>\n",
       "    .dataframe tbody tr th:only-of-type {\n",
       "        vertical-align: middle;\n",
       "    }\n",
       "\n",
       "    .dataframe tbody tr th {\n",
       "        vertical-align: top;\n",
       "    }\n",
       "\n",
       "    .dataframe thead th {\n",
       "        text-align: right;\n",
       "    }\n",
       "</style>\n",
       "<table border=\"1\" class=\"dataframe\">\n",
       "  <thead>\n",
       "    <tr style=\"text-align: right;\">\n",
       "      <th></th>\n",
       "      <th>Probability</th>\n",
       "    </tr>\n",
       "    <tr>\n",
       "      <th>Id</th>\n",
       "      <th></th>\n",
       "    </tr>\n",
       "  </thead>\n",
       "  <tbody>\n",
       "    <tr>\n",
       "      <th>1</th>\n",
       "      <td>0.051407</td>\n",
       "    </tr>\n",
       "    <tr>\n",
       "      <th>2</th>\n",
       "      <td>0.039280</td>\n",
       "    </tr>\n",
       "    <tr>\n",
       "      <th>3</th>\n",
       "      <td>0.013705</td>\n",
       "    </tr>\n",
       "    <tr>\n",
       "      <th>4</th>\n",
       "      <td>0.085204</td>\n",
       "    </tr>\n",
       "    <tr>\n",
       "      <th>5</th>\n",
       "      <td>0.126182</td>\n",
       "    </tr>\n",
       "    <tr>\n",
       "      <th>...</th>\n",
       "      <td>...</td>\n",
       "    </tr>\n",
       "    <tr>\n",
       "      <th>101499</th>\n",
       "      <td>0.032953</td>\n",
       "    </tr>\n",
       "    <tr>\n",
       "      <th>101500</th>\n",
       "      <td>0.327790</td>\n",
       "    </tr>\n",
       "    <tr>\n",
       "      <th>101501</th>\n",
       "      <td>0.005322</td>\n",
       "    </tr>\n",
       "    <tr>\n",
       "      <th>101502</th>\n",
       "      <td>0.167242</td>\n",
       "    </tr>\n",
       "    <tr>\n",
       "      <th>101503</th>\n",
       "      <td>0.040337</td>\n",
       "    </tr>\n",
       "  </tbody>\n",
       "</table>\n",
       "<p>101503 rows × 1 columns</p>\n",
       "</div>"
      ],
      "text/plain": [
       "        Probability\n",
       "Id                 \n",
       "1          0.051407\n",
       "2          0.039280\n",
       "3          0.013705\n",
       "4          0.085204\n",
       "5          0.126182\n",
       "...             ...\n",
       "101499     0.032953\n",
       "101500     0.327790\n",
       "101501     0.005322\n",
       "101502     0.167242\n",
       "101503     0.040337\n",
       "\n",
       "[101503 rows x 1 columns]"
      ]
     },
     "execution_count": 120,
     "metadata": {},
     "output_type": "execute_result"
    }
   ],
   "source": [
    "df_subm1"
   ]
  },
  {
   "cell_type": "code",
   "execution_count": 121,
   "id": "4dee0de5",
   "metadata": {
    "ExecuteTime": {
     "end_time": "2023-03-25T08:09:56.269164Z",
     "start_time": "2023-03-25T08:09:56.108552Z"
    }
   },
   "outputs": [],
   "source": [
    "df_subm1.to_csv('./df_subm2.csv')"
   ]
  },
  {
   "attachments": {
    "image.png": {
     "image/png": "[encoded data removed]"
    }
   },
   "cell_type": "markdown",
   "id": "3bdf2f7a",
   "metadata": {},
   "source": [
    "![image.png](attachment:image.png)"
   ]
  },
  {
   "cell_type": "markdown",
   "id": "e7b23b82",
   "metadata": {},
   "source": [
    "**It is much better than the first submission**"
   ]
  },
  {
   "attachments": {
    "image-2.png": {
     "image/png": "[encoded data removed]"
    }
   },
   "cell_type": "markdown",
   "id": "795ae5e4",
   "metadata": {},
   "source": [
    "![image-2.png](attachment:image-2.png)"
   ]
  },
  {
   "cell_type": "code",
   "execution_count": null,
   "id": "ab792b99",
   "metadata": {},
   "outputs": [],
   "source": []
  }
 ],
 "metadata": {
  "hide_input": false,
  "kernelspec": {
   "display_name": "Python 3 (ipykernel)",
   "language": "python",
   "name": "python3"
  },
  "language_info": {
   "codemirror_mode": {
    "name": "ipython",
    "version": 3
   },
   "file_extension": ".py",
   "mimetype": "text/x-python",
   "name": "python",
   "nbconvert_exporter": "python",
   "pygments_lexer": "ipython3",
   "version": "3.7.6"
  },
  "toc": {
   "base_numbering": 1,
   "nav_menu": {},
   "number_sections": true,
   "sideBar": true,
   "skip_h1_title": false,
   "title_cell": "Table of Contents",
   "title_sidebar": "Contents",
   "toc_cell": false,
   "toc_position": {},
   "toc_section_display": true,
   "toc_window_display": false
  },
  "varInspector": {
   "cols": {
    "lenName": 16,
    "lenType": 16,
    "lenVar": 40
   },
   "kernels_config": {
    "python": {
     "delete_cmd_postfix": "",
     "delete_cmd_prefix": "del ",
     "library": "var_list.py",
     "varRefreshCmd": "print(var_dic_list())"
    },
    "r": {
     "delete_cmd_postfix": ") ",
     "delete_cmd_prefix": "rm(",
     "library": "var_list.r",
     "varRefreshCmd": "cat(var_dic_list()) "
    }
   },
   "types_to_exclude": [
    "module",
    "function",
    "builtin_function_or_method",
    "instance",
    "_Feature"
   ],
   "window_display": false
  }
 },
 "nbformat": 4,
 "nbformat_minor": 5
}
