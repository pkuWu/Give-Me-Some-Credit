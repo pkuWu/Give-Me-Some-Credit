{
 "cells": [
  {
   "cell_type": "code",
   "execution_count": 214,
   "id": "d2cd318e",
   "metadata": {
    "ExecuteTime": {
     "end_time": "2023-03-20T13:22:44.864939Z",
     "start_time": "2023-03-20T13:22:44.849937Z"
    }
   },
   "outputs": [],
   "source": [
    "import numpy as np\n",
    "import pandas as pd\n",
    "from scipy.stats.mstats import winsorize\n",
    "from sklearn.linear_model import Lasso,LassoCV,LassoLarsCV\n",
    "from sklearn.model_selection import KFold\n",
    "from sklearn.linear_model import LogisticRegression\n",
    "\n",
    "from sklearn import svm\n",
    "from sklearn.tree import DecisionTreeClassifier,plot_tree\n",
    "import pickle\n",
    "import os\n",
    "import matplotlib.pyplot as plt\n",
    "from sklearn.metrics import roc_auc_score\n",
    "from scipy.stats.mstats import winsorize\n",
    "import seaborn as sns"
   ]
  },
  {
   "cell_type": "code",
   "execution_count": 215,
   "id": "3763981d",
   "metadata": {
    "ExecuteTime": {
     "end_time": "2023-03-20T13:22:44.879945Z",
     "start_time": "2023-03-20T13:22:44.866941Z"
    }
   },
   "outputs": [],
   "source": [
    "def AUC_metric(df):\n",
    "    auc = np.sum(df['pred'] == df['label']) / len(df)\n",
    "    return auc"
   ]
  },
  {
   "cell_type": "markdown",
   "id": "f337aad7",
   "metadata": {},
   "source": [
    "# Load data"
   ]
  },
  {
   "cell_type": "code",
   "execution_count": 216,
   "id": "254d6cfd",
   "metadata": {
    "ExecuteTime": {
     "end_time": "2023-03-20T13:22:44.895938Z",
     "start_time": "2023-03-20T13:22:44.881938Z"
    }
   },
   "outputs": [],
   "source": [
    "def load_data(path):\n",
    "    df_train = pd.read_csv(f'{path}/cs-training.csv',index_col=0)\n",
    "    df_test = pd.read_csv(f'{path}/cs-test.csv',index_col=0)\n",
    "    df_subm = pd.read_csv(f'{path}/sampleEntry.csv',index_col=0)\n",
    "    df_describe = pd.read_excel(f'{path}/Data Dictionary.xls',header=1)\n",
    "    return df_train, df_test, df_subm, df_describe"
   ]
  },
  {
   "cell_type": "code",
   "execution_count": 217,
   "id": "3f4420d0",
   "metadata": {
    "ExecuteTime": {
     "end_time": "2023-03-20T13:22:45.148275Z",
     "start_time": "2023-03-20T13:22:44.898980Z"
    }
   },
   "outputs": [],
   "source": [
    "df_train, df_test, df_subm, df_describe = load_data(path='./data')"
   ]
  },
  {
   "cell_type": "code",
   "execution_count": 218,
   "id": "9c3e56d5",
   "metadata": {
    "ExecuteTime": {
     "end_time": "2023-03-20T13:22:45.164111Z",
     "start_time": "2023-03-20T13:22:45.149837Z"
    }
   },
   "outputs": [
    {
     "data": {
      "text/html": [
       "<div>\n",
       "<style scoped>\n",
       "    .dataframe tbody tr th:only-of-type {\n",
       "        vertical-align: middle;\n",
       "    }\n",
       "\n",
       "    .dataframe tbody tr th {\n",
       "        vertical-align: top;\n",
       "    }\n",
       "\n",
       "    .dataframe thead th {\n",
       "        text-align: right;\n",
       "    }\n",
       "</style>\n",
       "<table border=\"1\" class=\"dataframe\">\n",
       "  <thead>\n",
       "    <tr style=\"text-align: right;\">\n",
       "      <th></th>\n",
       "      <th>Variable Name</th>\n",
       "      <th>Description</th>\n",
       "      <th>Type</th>\n",
       "    </tr>\n",
       "  </thead>\n",
       "  <tbody>\n",
       "    <tr>\n",
       "      <th>0</th>\n",
       "      <td>SeriousDlqin2yrs</td>\n",
       "      <td>Person experienced 90 days past due delinquenc...</td>\n",
       "      <td>Y/N</td>\n",
       "    </tr>\n",
       "    <tr>\n",
       "      <th>1</th>\n",
       "      <td>RevolvingUtilizationOfUnsecuredLines</td>\n",
       "      <td>Total balance on credit cards and personal lin...</td>\n",
       "      <td>percentage</td>\n",
       "    </tr>\n",
       "    <tr>\n",
       "      <th>2</th>\n",
       "      <td>age</td>\n",
       "      <td>Age of borrower in years</td>\n",
       "      <td>integer</td>\n",
       "    </tr>\n",
       "    <tr>\n",
       "      <th>3</th>\n",
       "      <td>NumberOfTime30-59DaysPastDueNotWorse</td>\n",
       "      <td>Number of times borrower has been 30-59 days p...</td>\n",
       "      <td>integer</td>\n",
       "    </tr>\n",
       "    <tr>\n",
       "      <th>4</th>\n",
       "      <td>DebtRatio</td>\n",
       "      <td>Monthly debt payments, alimony,living costs di...</td>\n",
       "      <td>percentage</td>\n",
       "    </tr>\n",
       "    <tr>\n",
       "      <th>5</th>\n",
       "      <td>MonthlyIncome</td>\n",
       "      <td>Monthly income</td>\n",
       "      <td>real</td>\n",
       "    </tr>\n",
       "    <tr>\n",
       "      <th>6</th>\n",
       "      <td>NumberOfOpenCreditLinesAndLoans</td>\n",
       "      <td>Number of Open loans (installment like car loa...</td>\n",
       "      <td>integer</td>\n",
       "    </tr>\n",
       "    <tr>\n",
       "      <th>7</th>\n",
       "      <td>NumberOfTimes90DaysLate</td>\n",
       "      <td>Number of times borrower has been 90 days or m...</td>\n",
       "      <td>integer</td>\n",
       "    </tr>\n",
       "    <tr>\n",
       "      <th>8</th>\n",
       "      <td>NumberRealEstateLoansOrLines</td>\n",
       "      <td>Number of mortgage and real estate loans inclu...</td>\n",
       "      <td>integer</td>\n",
       "    </tr>\n",
       "    <tr>\n",
       "      <th>9</th>\n",
       "      <td>NumberOfTime60-89DaysPastDueNotWorse</td>\n",
       "      <td>Number of times borrower has been 60-89 days p...</td>\n",
       "      <td>integer</td>\n",
       "    </tr>\n",
       "    <tr>\n",
       "      <th>10</th>\n",
       "      <td>NumberOfDependents</td>\n",
       "      <td>Number of dependents in family excluding thems...</td>\n",
       "      <td>integer</td>\n",
       "    </tr>\n",
       "  </tbody>\n",
       "</table>\n",
       "</div>"
      ],
      "text/plain": [
       "                           Variable Name  \\\n",
       "0                       SeriousDlqin2yrs   \n",
       "1   RevolvingUtilizationOfUnsecuredLines   \n",
       "2                                    age   \n",
       "3   NumberOfTime30-59DaysPastDueNotWorse   \n",
       "4                              DebtRatio   \n",
       "5                          MonthlyIncome   \n",
       "6        NumberOfOpenCreditLinesAndLoans   \n",
       "7                NumberOfTimes90DaysLate   \n",
       "8           NumberRealEstateLoansOrLines   \n",
       "9   NumberOfTime60-89DaysPastDueNotWorse   \n",
       "10                    NumberOfDependents   \n",
       "\n",
       "                                          Description        Type  \n",
       "0   Person experienced 90 days past due delinquenc...         Y/N  \n",
       "1   Total balance on credit cards and personal lin...  percentage  \n",
       "2                            Age of borrower in years     integer  \n",
       "3   Number of times borrower has been 30-59 days p...     integer  \n",
       "4   Monthly debt payments, alimony,living costs di...  percentage  \n",
       "5                                      Monthly income        real  \n",
       "6   Number of Open loans (installment like car loa...     integer  \n",
       "7   Number of times borrower has been 90 days or m...     integer  \n",
       "8   Number of mortgage and real estate loans inclu...     integer  \n",
       "9   Number of times borrower has been 60-89 days p...     integer  \n",
       "10  Number of dependents in family excluding thems...     integer  "
      ]
     },
     "execution_count": 218,
     "metadata": {},
     "output_type": "execute_result"
    }
   ],
   "source": [
    "df_describe"
   ]
  },
  {
   "cell_type": "code",
   "execution_count": 219,
   "id": "8dd38012",
   "metadata": {
    "ExecuteTime": {
     "end_time": "2023-03-20T13:22:45.243251Z",
     "start_time": "2023-03-20T13:22:45.166015Z"
    }
   },
   "outputs": [
    {
     "data": {
      "text/html": [
       "<div>\n",
       "<style scoped>\n",
       "    .dataframe tbody tr th:only-of-type {\n",
       "        vertical-align: middle;\n",
       "    }\n",
       "\n",
       "    .dataframe tbody tr th {\n",
       "        vertical-align: top;\n",
       "    }\n",
       "\n",
       "    .dataframe thead th {\n",
       "        text-align: right;\n",
       "    }\n",
       "</style>\n",
       "<table border=\"1\" class=\"dataframe\">\n",
       "  <thead>\n",
       "    <tr style=\"text-align: right;\">\n",
       "      <th></th>\n",
       "      <th>SeriousDlqin2yrs</th>\n",
       "      <th>RevolvingUtilizationOfUnsecuredLines</th>\n",
       "      <th>age</th>\n",
       "      <th>NumberOfTime30-59DaysPastDueNotWorse</th>\n",
       "      <th>DebtRatio</th>\n",
       "      <th>MonthlyIncome</th>\n",
       "      <th>NumberOfOpenCreditLinesAndLoans</th>\n",
       "      <th>NumberOfTimes90DaysLate</th>\n",
       "      <th>NumberRealEstateLoansOrLines</th>\n",
       "      <th>NumberOfTime60-89DaysPastDueNotWorse</th>\n",
       "      <th>NumberOfDependents</th>\n",
       "    </tr>\n",
       "  </thead>\n",
       "  <tbody>\n",
       "    <tr>\n",
       "      <th>count</th>\n",
       "      <td>150000.000000</td>\n",
       "      <td>150000.000000</td>\n",
       "      <td>150000.000000</td>\n",
       "      <td>150000.000000</td>\n",
       "      <td>150000.000000</td>\n",
       "      <td>1.202690e+05</td>\n",
       "      <td>150000.000000</td>\n",
       "      <td>150000.000000</td>\n",
       "      <td>150000.000000</td>\n",
       "      <td>150000.000000</td>\n",
       "      <td>146076.000000</td>\n",
       "    </tr>\n",
       "    <tr>\n",
       "      <th>mean</th>\n",
       "      <td>0.066840</td>\n",
       "      <td>6.048438</td>\n",
       "      <td>52.295207</td>\n",
       "      <td>0.421033</td>\n",
       "      <td>353.005076</td>\n",
       "      <td>6.670221e+03</td>\n",
       "      <td>8.452760</td>\n",
       "      <td>0.265973</td>\n",
       "      <td>1.018240</td>\n",
       "      <td>0.240387</td>\n",
       "      <td>0.757222</td>\n",
       "    </tr>\n",
       "    <tr>\n",
       "      <th>std</th>\n",
       "      <td>0.249746</td>\n",
       "      <td>249.755371</td>\n",
       "      <td>14.771866</td>\n",
       "      <td>4.192781</td>\n",
       "      <td>2037.818523</td>\n",
       "      <td>1.438467e+04</td>\n",
       "      <td>5.145951</td>\n",
       "      <td>4.169304</td>\n",
       "      <td>1.129771</td>\n",
       "      <td>4.155179</td>\n",
       "      <td>1.115086</td>\n",
       "    </tr>\n",
       "    <tr>\n",
       "      <th>min</th>\n",
       "      <td>0.000000</td>\n",
       "      <td>0.000000</td>\n",
       "      <td>0.000000</td>\n",
       "      <td>0.000000</td>\n",
       "      <td>0.000000</td>\n",
       "      <td>0.000000e+00</td>\n",
       "      <td>0.000000</td>\n",
       "      <td>0.000000</td>\n",
       "      <td>0.000000</td>\n",
       "      <td>0.000000</td>\n",
       "      <td>0.000000</td>\n",
       "    </tr>\n",
       "    <tr>\n",
       "      <th>25%</th>\n",
       "      <td>0.000000</td>\n",
       "      <td>0.029867</td>\n",
       "      <td>41.000000</td>\n",
       "      <td>0.000000</td>\n",
       "      <td>0.175074</td>\n",
       "      <td>3.400000e+03</td>\n",
       "      <td>5.000000</td>\n",
       "      <td>0.000000</td>\n",
       "      <td>0.000000</td>\n",
       "      <td>0.000000</td>\n",
       "      <td>0.000000</td>\n",
       "    </tr>\n",
       "    <tr>\n",
       "      <th>50%</th>\n",
       "      <td>0.000000</td>\n",
       "      <td>0.154181</td>\n",
       "      <td>52.000000</td>\n",
       "      <td>0.000000</td>\n",
       "      <td>0.366508</td>\n",
       "      <td>5.400000e+03</td>\n",
       "      <td>8.000000</td>\n",
       "      <td>0.000000</td>\n",
       "      <td>1.000000</td>\n",
       "      <td>0.000000</td>\n",
       "      <td>0.000000</td>\n",
       "    </tr>\n",
       "    <tr>\n",
       "      <th>75%</th>\n",
       "      <td>0.000000</td>\n",
       "      <td>0.559046</td>\n",
       "      <td>63.000000</td>\n",
       "      <td>0.000000</td>\n",
       "      <td>0.868254</td>\n",
       "      <td>8.249000e+03</td>\n",
       "      <td>11.000000</td>\n",
       "      <td>0.000000</td>\n",
       "      <td>2.000000</td>\n",
       "      <td>0.000000</td>\n",
       "      <td>1.000000</td>\n",
       "    </tr>\n",
       "    <tr>\n",
       "      <th>max</th>\n",
       "      <td>1.000000</td>\n",
       "      <td>50708.000000</td>\n",
       "      <td>109.000000</td>\n",
       "      <td>98.000000</td>\n",
       "      <td>329664.000000</td>\n",
       "      <td>3.008750e+06</td>\n",
       "      <td>58.000000</td>\n",
       "      <td>98.000000</td>\n",
       "      <td>54.000000</td>\n",
       "      <td>98.000000</td>\n",
       "      <td>20.000000</td>\n",
       "    </tr>\n",
       "  </tbody>\n",
       "</table>\n",
       "</div>"
      ],
      "text/plain": [
       "       SeriousDlqin2yrs  RevolvingUtilizationOfUnsecuredLines            age  \\\n",
       "count     150000.000000                         150000.000000  150000.000000   \n",
       "mean           0.066840                              6.048438      52.295207   \n",
       "std            0.249746                            249.755371      14.771866   \n",
       "min            0.000000                              0.000000       0.000000   \n",
       "25%            0.000000                              0.029867      41.000000   \n",
       "50%            0.000000                              0.154181      52.000000   \n",
       "75%            0.000000                              0.559046      63.000000   \n",
       "max            1.000000                          50708.000000     109.000000   \n",
       "\n",
       "       NumberOfTime30-59DaysPastDueNotWorse      DebtRatio  MonthlyIncome  \\\n",
       "count                         150000.000000  150000.000000   1.202690e+05   \n",
       "mean                               0.421033     353.005076   6.670221e+03   \n",
       "std                                4.192781    2037.818523   1.438467e+04   \n",
       "min                                0.000000       0.000000   0.000000e+00   \n",
       "25%                                0.000000       0.175074   3.400000e+03   \n",
       "50%                                0.000000       0.366508   5.400000e+03   \n",
       "75%                                0.000000       0.868254   8.249000e+03   \n",
       "max                               98.000000  329664.000000   3.008750e+06   \n",
       "\n",
       "       NumberOfOpenCreditLinesAndLoans  NumberOfTimes90DaysLate  \\\n",
       "count                    150000.000000            150000.000000   \n",
       "mean                          8.452760                 0.265973   \n",
       "std                           5.145951                 4.169304   \n",
       "min                           0.000000                 0.000000   \n",
       "25%                           5.000000                 0.000000   \n",
       "50%                           8.000000                 0.000000   \n",
       "75%                          11.000000                 0.000000   \n",
       "max                          58.000000                98.000000   \n",
       "\n",
       "       NumberRealEstateLoansOrLines  NumberOfTime60-89DaysPastDueNotWorse  \\\n",
       "count                 150000.000000                         150000.000000   \n",
       "mean                       1.018240                              0.240387   \n",
       "std                        1.129771                              4.155179   \n",
       "min                        0.000000                              0.000000   \n",
       "25%                        0.000000                              0.000000   \n",
       "50%                        1.000000                              0.000000   \n",
       "75%                        2.000000                              0.000000   \n",
       "max                       54.000000                             98.000000   \n",
       "\n",
       "       NumberOfDependents  \n",
       "count       146076.000000  \n",
       "mean             0.757222  \n",
       "std              1.115086  \n",
       "min              0.000000  \n",
       "25%              0.000000  \n",
       "50%              0.000000  \n",
       "75%              1.000000  \n",
       "max             20.000000  "
      ]
     },
     "execution_count": 219,
     "metadata": {},
     "output_type": "execute_result"
    }
   ],
   "source": [
    "df_train.describe()"
   ]
  },
  {
   "cell_type": "markdown",
   "id": "47c2b2e0",
   "metadata": {},
   "source": [
    "# Feature Engineer"
   ]
  },
  {
   "cell_type": "markdown",
   "id": "34119055",
   "metadata": {},
   "source": [
    "## Combine data"
   ]
  },
  {
   "cell_type": "code",
   "execution_count": 220,
   "id": "ee43e8c0",
   "metadata": {
    "ExecuteTime": {
     "end_time": "2023-03-20T13:22:45.259260Z",
     "start_time": "2023-03-20T13:22:45.245253Z"
    }
   },
   "outputs": [],
   "source": [
    "# set features and label\n",
    "label = df_describe.loc[0,'Variable Name']\n",
    "features = df_describe.loc[1:,'Variable Name'].to_list()"
   ]
  },
  {
   "cell_type": "code",
   "execution_count": 221,
   "id": "bf547c76",
   "metadata": {
    "ExecuteTime": {
     "end_time": "2023-03-20T13:22:45.274489Z",
     "start_time": "2023-03-20T13:22:45.261254Z"
    }
   },
   "outputs": [],
   "source": [
    "# set flag to classify train data and test data\n",
    "df_train['istest'] = 0\n",
    "df_test['istest'] = 1"
   ]
  },
  {
   "cell_type": "code",
   "execution_count": 222,
   "id": "08a6d72a",
   "metadata": {
    "ExecuteTime": {
     "end_time": "2023-03-20T13:22:45.304677Z",
     "start_time": "2023-03-20T13:22:45.275404Z"
    }
   },
   "outputs": [],
   "source": [
    "# combine train data and test data, and process it\n",
    "df_raw = pd.concat([df_train,df_test],axis=0)"
   ]
  },
  {
   "cell_type": "code",
   "execution_count": 223,
   "id": "17bc90b3",
   "metadata": {
    "ExecuteTime": {
     "end_time": "2023-03-20T13:22:45.350405Z",
     "start_time": "2023-03-20T13:22:45.307283Z"
    }
   },
   "outputs": [],
   "source": [
    "df_raw[features] = df_raw[features].fillna(0)"
   ]
  },
  {
   "cell_type": "code",
   "execution_count": 224,
   "id": "255ef5c4",
   "metadata": {
    "ExecuteTime": {
     "end_time": "2023-03-20T13:22:47.001744Z",
     "start_time": "2023-03-20T13:22:45.351973Z"
    }
   },
   "outputs": [
    {
     "name": "stderr",
     "output_type": "stream",
     "text": [
      "F:\\Anaconda\\lib\\site-packages\\seaborn\\distributions.py:2619: FutureWarning: `distplot` is a deprecated function and will be removed in a future version. Please adapt your code to use either `displot` (a figure-level function with similar flexibility) or `histplot` (an axes-level function for histograms).\n",
      "  warnings.warn(msg, FutureWarning)\n"
     ]
    },
    {
     "data": {
      "text/plain": [
       "<AxesSubplot:xlabel='NumberOfTime30-59DaysPastDueNotWorse', ylabel='Density'>"
      ]
     },
     "execution_count": 224,
     "metadata": {},
     "output_type": "execute_result"
    },
    {
     "data": {
      "image/png": "[encoded data removed]",
      "text/plain": [
       "<Figure size 432x288 with 1 Axes>"
      ]
     },
     "metadata": {
      "needs_background": "light"
     },
     "output_type": "display_data"
    }
   ],
   "source": [
    "sns.distplot(df_raw['NumberOfTime30-59DaysPastDueNotWorse'])"
   ]
  },
  {
   "cell_type": "markdown",
   "id": "340a608b",
   "metadata": {},
   "source": [
    "## Winsorize Outlier"
   ]
  },
  {
   "cell_type": "code",
   "execution_count": 225,
   "id": "2ce37fb1",
   "metadata": {
    "ExecuteTime": {
     "end_time": "2023-03-20T13:22:47.127032Z",
     "start_time": "2023-03-20T13:22:47.003704Z"
    }
   },
   "outputs": [],
   "source": [
    "for feat in features:\n",
    "    df_raw[feat] = winsorize(df_raw[feat],limits=[0.01,0.01])"
   ]
  },
  {
   "cell_type": "markdown",
   "id": "7d484730",
   "metadata": {},
   "source": [
    "## Normalized Feature"
   ]
  },
  {
   "cell_type": "code",
   "execution_count": 226,
   "id": "9f8094f7",
   "metadata": {
    "ExecuteTime": {
     "end_time": "2023-03-20T13:22:47.220484Z",
     "start_time": "2023-03-20T13:22:47.129031Z"
    }
   },
   "outputs": [],
   "source": [
    "df_raw.loc[:,features] = (df_raw.loc[:,features] - df_raw.loc[:,features].mean(axis=0)) / df_raw.loc[:,features].std(axis=0)"
   ]
  },
  {
   "cell_type": "markdown",
   "id": "95db9045",
   "metadata": {},
   "source": [
    "## Lasso Feature Selection"
   ]
  },
  {
   "cell_type": "code",
   "execution_count": 227,
   "id": "7eafcdc0",
   "metadata": {
    "ExecuteTime": {
     "end_time": "2023-03-20T13:22:47.236489Z",
     "start_time": "2023-03-20T13:22:47.222159Z"
    }
   },
   "outputs": [],
   "source": [
    "def Lasso_select_features(df_raw,features,label):\n",
    "    lasso_model = Lasso(alpha=0.064)\n",
    "    X_train = df_raw.loc[df_raw['istest']==0,features]\n",
    "    Y_train = df_raw.loc[df_raw['istest']==0,label]\n",
    "    lasso_model.fit(X_train,Y_train)\n",
    "    print(lasso_model.coef_)\n",
    "    select_features = list(np.array(features)[lasso_model.coef_!=0])\n",
    "    \n",
    "    return select_features"
   ]
  },
  {
   "cell_type": "code",
   "execution_count": 228,
   "id": "4f41e65d",
   "metadata": {
    "ExecuteTime": {
     "end_time": "2023-03-20T13:22:47.298860Z",
     "start_time": "2023-03-20T13:22:47.238723Z"
    }
   },
   "outputs": [
    {
     "name": "stdout",
     "output_type": "stream",
     "text": [
      "[ 0.         -0.          0.00087344 -0.         -0.         -0.\n",
      "  0.0226296  -0.          0.          0.        ]\n"
     ]
    }
   ],
   "source": [
    "select_features = Lasso_select_features(df_raw,features,label)"
   ]
  },
  {
   "cell_type": "code",
   "execution_count": 229,
   "id": "ebce06a3",
   "metadata": {
    "ExecuteTime": {
     "end_time": "2023-03-20T13:22:47.314044Z",
     "start_time": "2023-03-20T13:22:47.299862Z"
    }
   },
   "outputs": [
    {
     "data": {
      "text/plain": [
       "['NumberOfTime30-59DaysPastDueNotWorse', 'NumberOfTimes90DaysLate']"
      ]
     },
     "execution_count": 229,
     "metadata": {},
     "output_type": "execute_result"
    }
   ],
   "source": [
    "select_features"
   ]
  },
  {
   "cell_type": "markdown",
   "id": "26dd9cd2",
   "metadata": {},
   "source": [
    "# Train Model"
   ]
  },
  {
   "cell_type": "code",
   "execution_count": 230,
   "id": "d6ea3343",
   "metadata": {
    "ExecuteTime": {
     "end_time": "2023-03-20T13:22:47.330039Z",
     "start_time": "2023-03-20T13:22:47.315031Z"
    }
   },
   "outputs": [],
   "source": [
    "def valid_metric(Model,Model_name,x_valid,y_valid,i):\n",
    "    y_pred = Model.predict_proba(x_valid)[:,1]\n",
    "#     df = pd.DataFrame({'pred':y_pred,'label':y_valid})\n",
    "    \n",
    "    auc_val = roc_auc_score(y_valid, y_pred)\n",
    "    print(f'fold{i+1}: {Model_name} vaild AUC {round(auc_val,4)}')\n",
    "\n",
    "def save_model(Model,Model_name,i,path):\n",
    "    os.makedirs(path,exist_ok=True)\n",
    "    with open(f'{path}/{Model_name}_{i}.pkl','wb') as f:\n",
    "        pickle.dump(Model,f)\n",
    "\n",
    "def load_model(Model_name,i,path):\n",
    "    with open(f'{path}/{Model_name}_{i}.pkl','rb') as f:\n",
    "        model = pickle.load(f)\n",
    "    return model \n",
    "    "
   ]
  },
  {
   "cell_type": "code",
   "execution_count": 240,
   "id": "6a209264",
   "metadata": {
    "ExecuteTime": {
     "end_time": "2023-03-20T14:00:46.227747Z",
     "start_time": "2023-03-20T14:00:45.784277Z"
    }
   },
   "outputs": [
    {
     "name": "stdout",
     "output_type": "stream",
     "text": [
      "fold1: LogisticRegression vaild AUC 0.7538\n",
      "fold1: DecisionTree vaild AUC 0.7545\n",
      "fold2: LogisticRegression vaild AUC 0.7568\n",
      "fold2: DecisionTree vaild AUC 0.7575\n",
      "fold3: LogisticRegression vaild AUC 0.7601\n",
      "fold3: DecisionTree vaild AUC 0.7607\n",
      "fold4: LogisticRegression vaild AUC 0.7561\n",
      "fold4: DecisionTree vaild AUC 0.7563\n",
      "fold5: LogisticRegression vaild AUC 0.7647\n",
      "fold5: DecisionTree vaild AUC 0.7656\n"
     ]
    }
   ],
   "source": [
    "# kfolds cross validation\n",
    "kfolds = KFold(n_splits=5, shuffle=False)\n",
    "train_data = df_raw[df_raw['istest']==0]\n",
    "train_data = train_data.reset_index().drop('index',axis=1)\n",
    "\n",
    "LR_Model_list = []\n",
    "SVM_Model_list = []\n",
    "Tree_Model_list = []\n",
    "\n",
    "for i,(train_idx, val_idx) in enumerate(kfolds.split(train_data)):\n",
    "    # Split train and valid\n",
    "    x_train = train_data.loc[train_idx,select_features].values\n",
    "    y_train = train_data.loc[train_idx,label].values\n",
    "    \n",
    "    x_valid = train_data.loc[val_idx,select_features].values\n",
    "    y_valid = train_data.loc[val_idx,label].values\n",
    "    \n",
    "    # Logistic Model\n",
    "    LR_Model = LogisticRegression()\n",
    "    LR_Model.fit(x_train, y_train)\n",
    "    save_model(LR_Model,'LogisticRegression',i+1,path='./saved_model') # save model\n",
    "    \n",
    "    valid_metric(Model=LR_Model,Model_name='LogisticRegression',x_valid=x_valid,y_valid=y_valid,i=i)\n",
    "    \n",
    "    \n",
    "#     # SVM Model\n",
    "#     SVM_Model = svm.SVC(kernel = 'linear',probability=True)\n",
    "#     SVM_Model.fit(x_train, y_train)\n",
    "#     save_model(SVM_Model,'SVM',i+1,path='./saved_model') # save model\n",
    "    \n",
    "#     valid_metric(Model=SVM_Model,Model_name='SVM',x_valid=x_valid,y_valid=y_valid,i=i)\n",
    "    \n",
    "\n",
    "    # Tree Model\n",
    "    DecisonTree_Model = DecisionTreeClassifier(min_samples_leaf=10)\n",
    "    DecisonTree_Model.fit(x_train, y_train)\n",
    "    \n",
    "    save_model(DecisonTree_Model,'DecisionTree',i+1,path='./saved_model') # save model\n",
    "    \n",
    "    valid_metric(Model=DecisonTree_Model,Model_name='DecisionTree',x_valid=x_valid,y_valid=y_valid,i=i)\n",
    "    \n",
    "    \n",
    "    \n",
    "    "
   ]
  },
  {
   "cell_type": "code",
   "execution_count": 236,
   "id": "bde94fe0",
   "metadata": {
    "ExecuteTime": {
     "end_time": "2023-03-20T13:53:30.241937Z",
     "start_time": "2023-03-20T13:53:30.227929Z"
    }
   },
   "outputs": [],
   "source": [
    "from matplotlib.colors import ListedColormap\n",
    "import matplotlib.pyplot as plt\n",
    "\n",
    "# To check recent matplotlib compatibility\n",
    "import matplotlib\n",
    "from distutils.version import LooseVersion\n",
    "\n",
    "\n",
    "def plot_decision_regions(X, y, classifier, test_idx=None, resolution=0.02):\n",
    "\n",
    "    # setup marker generator and color map\n",
    "    markers = ('s', 'x', 'o', '^', 'v')\n",
    "    colors = ('red', 'blue', 'lightgreen', 'gray', 'cyan')\n",
    "    cmap = ListedColormap(colors[:len(np.unique(y))])\n",
    "\n",
    "    # plot the decision surface\n",
    "    x1_min, x1_max = X[:, 0].min() - 1, X[:, 0].max() + 1\n",
    "    x2_min, x2_max = X[:, 1].min() - 1, X[:, 1].max() + 1\n",
    "    xx1, xx2 = np.meshgrid(np.arange(x1_min, x1_max, resolution),\n",
    "                           np.arange(x2_min, x2_max, resolution))\n",
    "    Z = classifier.predict(np.array([xx1.ravel(), xx2.ravel()]).T)\n",
    "    Z = Z.reshape(xx1.shape)\n",
    "    plt.contourf(xx1, xx2, Z, alpha=0.3, cmap=cmap)\n",
    "    plt.xlim(xx1.min(), xx1.max())\n",
    "    plt.ylim(xx2.min(), xx2.max())\n",
    "\n",
    "    for idx, cl in enumerate(np.unique(y)):\n",
    "        plt.scatter(x=X[y == cl, 0], \n",
    "                    y=X[y == cl, 1],\n",
    "                    alpha=0.8, \n",
    "                    color=colors[idx],\n",
    "                    marker=markers[idx], \n",
    "                    label=cl, \n",
    "                    edgecolor='black')\n",
    "\n",
    "    # highlight test examples\n",
    "    if test_idx:\n",
    "        # plot all examples\n",
    "        X_test, y_test = X[test_idx, :], y[test_idx]\n",
    "\n",
    "        \n",
    "        if LooseVersion(matplotlib.__version__) < LooseVersion('0.3.4'):\n",
    "            plt.scatter(X_test[:, 0],\n",
    "                        X_test[:, 1],\n",
    "                        c='',\n",
    "                        edgecolor='black',\n",
    "                        alpha=1.0,\n",
    "                        linewidth=1,\n",
    "                        marker='o',\n",
    "                        s=100, \n",
    "                        label='test set')\n",
    "        else:\n",
    "            plt.scatter(X_test[:, 0],\n",
    "                        X_test[:, 1],\n",
    "                        c='none',\n",
    "                        edgecolor='black',\n",
    "                        alpha=1.0,\n",
    "                        linewidth=1,\n",
    "                        marker='o',\n",
    "                        s=100, \n",
    "                        label='test set')        "
   ]
  },
  {
   "cell_type": "code",
   "execution_count": 243,
   "id": "0e7d3fa5",
   "metadata": {
    "ExecuteTime": {
     "end_time": "2023-03-20T14:01:34.967581Z",
     "start_time": "2023-03-20T14:01:34.697588Z"
    }
   },
   "outputs": [
    {
     "name": "stderr",
     "output_type": "stream",
     "text": [
      "F:\\Anaconda\\lib\\site-packages\\ipykernel_launcher.py:34: UserWarning: You passed a edgecolor/edgecolors ('black') for an unfilled marker ('x').  Matplotlib is ignoring the edgecolor in favor of the facecolor.  This behavior may change in the future.\n"
     ]
    },
    {
     "data": {
      "image/png": "[encoded data removed]",
      "text/plain": [
       "<Figure size 432x288 with 1 Axes>"
      ]
     },
     "metadata": {
      "needs_background": "light"
     },
     "output_type": "display_data"
    }
   ],
   "source": [
    "plot_decision_regions(X=x_train, y=y_train,\n",
    "                      classifier=DecisonTree_Model)\n",
    "plt.xlabel(f'{select_features[0]}[standardized]')\n",
    "plt.ylabel(f'{select_features[1]}[standardized]')\n",
    "plt.legend(loc='upper left')\n",
    "\n",
    "plt.tight_layout()\n",
    "#plt.savefig('images/03_01.png', dpi=300)\n",
    "plt.show()"
   ]
  },
  {
   "cell_type": "markdown",
   "id": "8473e592",
   "metadata": {
    "ExecuteTime": {
     "end_time": "2023-03-17T13:52:43.737311Z",
     "start_time": "2023-03-17T13:52:43.737311Z"
    }
   },
   "source": [
    "# Predict"
   ]
  },
  {
   "cell_type": "code",
   "execution_count": 244,
   "id": "62bf674f",
   "metadata": {
    "ExecuteTime": {
     "end_time": "2023-03-20T14:01:35.466417Z",
     "start_time": "2023-03-20T14:01:35.452257Z"
    }
   },
   "outputs": [],
   "source": [
    "x_test = df_test.loc[:,select_features].values\n",
    "y_test = df_test.loc[:,label].values"
   ]
  },
  {
   "cell_type": "code",
   "execution_count": 245,
   "id": "ac5e2a6a",
   "metadata": {
    "ExecuteTime": {
     "end_time": "2023-03-20T14:01:35.730464Z",
     "start_time": "2023-03-20T14:01:35.673145Z"
    }
   },
   "outputs": [],
   "source": [
    "pred_prob = 0\n",
    "for i in range(1,6):\n",
    "    LR_model = load_model('LogisticRegression',i,path='./saved_model')\n",
    "    pred_prob += LR_model.predict_proba(x_test)\n",
    "    Tree_model = load_model('DecisionTree',i,path='./saved_model')\n",
    "    pred_prob += Tree_model.predict_proba(x_test)\n",
    "\n",
    "pred_prob = pred_prob / 10"
   ]
  },
  {
   "cell_type": "code",
   "execution_count": 206,
   "id": "9d08a0c7",
   "metadata": {
    "ExecuteTime": {
     "end_time": "2023-03-20T13:19:26.465346Z",
     "start_time": "2023-03-20T13:19:26.453212Z"
    }
   },
   "outputs": [],
   "source": [
    "df_subm1 = df_subm.copy()"
   ]
  },
  {
   "cell_type": "code",
   "execution_count": 207,
   "id": "42527595",
   "metadata": {
    "ExecuteTime": {
     "end_time": "2023-03-20T13:19:27.018819Z",
     "start_time": "2023-03-20T13:19:27.009752Z"
    }
   },
   "outputs": [],
   "source": [
    "df_subm1['Probability'] = pred_prob[:,1]"
   ]
  },
  {
   "cell_type": "code",
   "execution_count": 208,
   "id": "424f9528",
   "metadata": {
    "ExecuteTime": {
     "end_time": "2023-03-20T13:19:27.819131Z",
     "start_time": "2023-03-20T13:19:27.805062Z"
    }
   },
   "outputs": [
    {
     "data": {
      "text/html": [
       "<div>\n",
       "<style scoped>\n",
       "    .dataframe tbody tr th:only-of-type {\n",
       "        vertical-align: middle;\n",
       "    }\n",
       "\n",
       "    .dataframe tbody tr th {\n",
       "        vertical-align: top;\n",
       "    }\n",
       "\n",
       "    .dataframe thead th {\n",
       "        text-align: right;\n",
       "    }\n",
       "</style>\n",
       "<table border=\"1\" class=\"dataframe\">\n",
       "  <thead>\n",
       "    <tr style=\"text-align: right;\">\n",
       "      <th></th>\n",
       "      <th>Probability</th>\n",
       "    </tr>\n",
       "    <tr>\n",
       "      <th>Id</th>\n",
       "      <th></th>\n",
       "    </tr>\n",
       "  </thead>\n",
       "  <tbody>\n",
       "    <tr>\n",
       "      <th>1</th>\n",
       "      <td>0.040674</td>\n",
       "    </tr>\n",
       "    <tr>\n",
       "      <th>2</th>\n",
       "      <td>0.040674</td>\n",
       "    </tr>\n",
       "    <tr>\n",
       "      <th>3</th>\n",
       "      <td>0.040674</td>\n",
       "    </tr>\n",
       "    <tr>\n",
       "      <th>4</th>\n",
       "      <td>0.093339</td>\n",
       "    </tr>\n",
       "    <tr>\n",
       "      <th>5</th>\n",
       "      <td>0.040674</td>\n",
       "    </tr>\n",
       "    <tr>\n",
       "      <th>...</th>\n",
       "      <td>...</td>\n",
       "    </tr>\n",
       "    <tr>\n",
       "      <th>101499</th>\n",
       "      <td>0.040674</td>\n",
       "    </tr>\n",
       "    <tr>\n",
       "      <th>101500</th>\n",
       "      <td>0.186883</td>\n",
       "    </tr>\n",
       "    <tr>\n",
       "      <th>101501</th>\n",
       "      <td>0.040674</td>\n",
       "    </tr>\n",
       "    <tr>\n",
       "      <th>101502</th>\n",
       "      <td>0.040674</td>\n",
       "    </tr>\n",
       "    <tr>\n",
       "      <th>101503</th>\n",
       "      <td>0.040674</td>\n",
       "    </tr>\n",
       "  </tbody>\n",
       "</table>\n",
       "<p>101503 rows × 1 columns</p>\n",
       "</div>"
      ],
      "text/plain": [
       "        Probability\n",
       "Id                 \n",
       "1          0.040674\n",
       "2          0.040674\n",
       "3          0.040674\n",
       "4          0.093339\n",
       "5          0.040674\n",
       "...             ...\n",
       "101499     0.040674\n",
       "101500     0.186883\n",
       "101501     0.040674\n",
       "101502     0.040674\n",
       "101503     0.040674\n",
       "\n",
       "[101503 rows x 1 columns]"
      ]
     },
     "execution_count": 208,
     "metadata": {},
     "output_type": "execute_result"
    }
   ],
   "source": [
    "df_subm1"
   ]
  },
  {
   "cell_type": "code",
   "execution_count": 209,
   "id": "4dee0de5",
   "metadata": {
    "ExecuteTime": {
     "end_time": "2023-03-20T13:19:30.635227Z",
     "start_time": "2023-03-20T13:19:30.452540Z"
    }
   },
   "outputs": [],
   "source": [
    "df_subm1.to_csv('./df_subm1.csv')"
   ]
  },
  {
   "attachments": {
    "image-2.png": {
     "image/png": "[encoded data removed]"
    }
   },
   "cell_type": "markdown",
   "id": "795ae5e4",
   "metadata": {},
   "source": [
    "![image-2.png](attachment:image-2.png)"
   ]
  },
  {
   "cell_type": "code",
   "execution_count": null,
   "id": "ab792b99",
   "metadata": {},
   "outputs": [],
   "source": []
  }
 ],
 "metadata": {
  "hide_input": false,
  "kernelspec": {
   "display_name": "Python 3 (ipykernel)",
   "language": "python",
   "name": "python3"
  },
  "language_info": {
   "codemirror_mode": {
    "name": "ipython",
    "version": 3
   },
   "file_extension": ".py",
   "mimetype": "text/x-python",
   "name": "python",
   "nbconvert_exporter": "python",
   "pygments_lexer": "ipython3",
   "version": "3.7.6"
  },
  "toc": {
   "base_numbering": 1,
   "nav_menu": {},
   "number_sections": true,
   "sideBar": true,
   "skip_h1_title": false,
   "title_cell": "Table of Contents",
   "title_sidebar": "Contents",
   "toc_cell": false,
   "toc_position": {},
   "toc_section_display": true,
   "toc_window_display": false
  },
  "varInspector": {
   "cols": {
    "lenName": 16,
    "lenType": 16,
    "lenVar": 40
   },
   "kernels_config": {
    "python": {
     "delete_cmd_postfix": "",
     "delete_cmd_prefix": "del ",
     "library": "var_list.py",
     "varRefreshCmd": "print(var_dic_list())"
    },
    "r": {
     "delete_cmd_postfix": ") ",
     "delete_cmd_prefix": "rm(",
     "library": "var_list.r",
     "varRefreshCmd": "cat(var_dic_list()) "
    }
   },
   "types_to_exclude": [
    "module",
    "function",
    "builtin_function_or_method",
    "instance",
    "_Feature"
   ],
   "window_display": false
  }
 },
 "nbformat": 4,
 "nbformat_minor": 5
}
